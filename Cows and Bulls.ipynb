{
 "cells": [
  {
   "cell_type": "code",
   "execution_count": null,
   "id": "e39838c9",
   "metadata": {},
   "outputs": [],
   "source": [
    "from random import randint\n",
    "\n",
    "# Получение случайного числа\n",
    "game_number = randint(0, 9999)\n",
    "# Строковый вариант числа вида 0000 - 9999 для операции сравнения\n",
    "game_string = f'{game_number//1000}{game_number%1000//100}{game_number%100//10}{game_number%10}'\n",
    "\n",
    "# Количество шагов\n",
    "steps = 1\n",
    "# Игровой цикл\n",
    "while True:\n",
    "    # Переменные для быков и коров\n",
    "    bulls, cows = 0, 0\n",
    "    # Цикл корректного ввода числа\n",
    "    while True:\n",
    "        user_number = int(input(f'Шаг: {steps}\\n Введите число в диапазоне [0, 9999]: '))\n",
    "        user_string = f'{user_number//1000}{user_number%1000//100}{user_number%100//10}{user_number%10}'\n",
    "        # Если введенное число не корректно, ввод повторяется\n",
    "        if user_number not in range(10000):\n",
    "            print('Введеное число не входит в запрашиваемый промежуток, введите снова\\n')\n",
    "        else:\n",
    "            break\n",
    "    # Если число отгадано вывод количества шагов и прерывание основного цикла\n",
    "    if user_number == game_number:\n",
    "        print(f'Правильное число! Количество шагов: {steps} ')\n",
    "        break\n",
    "    # Вычисление \"коров\" и \"быков\"\n",
    "    else:\n",
    "        for char in user_string:\n",
    "            if game_string[user_string.index(char)] == char:\n",
    "                bulls += 1\n",
    "            elif char in game_string:\n",
    "                cows += 1\n",
    "    # Вывод количества совпадений\n",
    "    print(f'{bulls} быков и {cows} коров!')\n",
    "    steps += 1"
   ]
  },
  {
   "cell_type": "code",
   "execution_count": null,
   "id": "5b790341",
   "metadata": {},
   "outputs": [],
   "source": []
  }
 ],
 "metadata": {
  "kernelspec": {
   "display_name": "Python 3",
   "language": "python",
   "name": "python3"
  },
  "language_info": {
   "codemirror_mode": {
    "name": "ipython",
    "version": 3
   },
   "file_extension": ".py",
   "mimetype": "text/x-python",
   "name": "python",
   "nbconvert_exporter": "python",
   "pygments_lexer": "ipython3",
   "version": "3.8.8"
  }
 },
 "nbformat": 4,
 "nbformat_minor": 5
}
