{
 "cells": [
  {
   "cell_type": "code",
   "execution_count": 2,
   "id": "737181b9",
   "metadata": {},
   "outputs": [],
   "source": [
    "import csv\n",
    "import pickle"
   ]
  },
  {
   "cell_type": "code",
   "execution_count": 3,
   "id": "6a097360",
   "metadata": {},
   "outputs": [],
   "source": [
    "#Функция загрузки таблицы, которая принимает тип файла его путь и название\n",
    "def load_table(doctype='csv', path='', name=''):\n",
    "    try:\n",
    "        if doctype == 'csv':\n",
    "            result = []\n",
    "            #Открываем файл как csvfile\n",
    "            with open(f'{path}/{name}.csv', newline='') as csvfile:\n",
    "                #Создаём ридер для него\n",
    "                reader = csv.reader(csvfile, delimiter = ';')\n",
    "                #Перебираем все строчки\n",
    "                for row in reader:\n",
    "                    #Добавляем каждую строчку в лист\n",
    "                    result.append(row)\n",
    "            return result\n",
    "        elif doctype == 'pickle':\n",
    "            result = []\n",
    "            #Аналогично, но читаем с помощью read bytes\n",
    "            with open(f'{path}/{name}.pickle', 'rb') as picklefile:\n",
    "                while True:\n",
    "                    try:\n",
    "                        #Добавляем в переменную, пока не выведет ошибка\n",
    "                        result.append(pickle.load(picklefile))\n",
    "                    except EOFError:\n",
    "                        return result\n",
    "                        break\n",
    "        elif doctype == 'txt':\n",
    "            #Аналогично\n",
    "            with open(f'{path}/{name}.txt', 'r') as txtfile:\n",
    "                #Записываем в файл все строчки\n",
    "                result = txtfile.readlines()\n",
    "            return result\n",
    "        else:\n",
    "            print(\"Вам нужно ввести один из типов документов [csv, txt, pickle]\")\n",
    "    except FileNotFoundError:\n",
    "        print(\"Такого файла не существует!\\nПроверь свой путь или имя файла!\")"
   ]
  },
  {
   "cell_type": "code",
   "execution_count": 38,
   "id": "2e9f7cbb",
   "metadata": {},
   "outputs": [],
   "source": [
    "#Создаём таблицу, из нового только новые данные, которые для каждого типа разные\n",
    "def create_table(doctype='csv', path='', name='default', csvdata=[], txtdata='', pickledata = {}):\n",
    "    if doctype == 'csv':\n",
    "        #Аналогично пишем, но тут дописываем write для создания файла\n",
    "        with open(f'{path}/{name}.csv', 'w', newline='') as csvfile:\n",
    "            print(f\">>> файл {name}.{doctype} в директории {path} создан\")\n",
    "            #Создаём врайтер\n",
    "            writer = csv.writer(csvfile, delimiter=';')\n",
    "            print(f\">>> запись в файл начата\")\n",
    "            nd = []\n",
    "            #Перебираем строчки\n",
    "            for row in csvdata:\n",
    "                if type(row) is list:\n",
    "                    #Если тип строчки лист, то записываем\n",
    "                    writer.writerow(row)\n",
    "                else:\n",
    "                    #Иначе добавляем в лист и записываем\n",
    "                    nd.append(row)\n",
    "                    print(nd)\n",
    "                    writer.writerow(nd)\n",
    "                    nd = []\n",
    "            print(f\">>> запись в файл закончена\")\n",
    "    elif doctype == 'txt':\n",
    "        with open(f'{path}/{name}.txt', 'w') as txtfile:\n",
    "            print(f\">>> файл {name}.{doctype} в директории {path} создан\")\n",
    "            print(f\">>> запись в файл начата\")\n",
    "            for row in txtdata:\n",
    "                txtfile.write(row)\n",
    "            print(f\">>> запись в файл закончена\")\n",
    "    elif doctype == 'pickle':\n",
    "        with open(f'{path}/{name}.pickle', 'wb') as picklefile:\n",
    "            print(f\">>> файл {name}.{doctype} в директории {path} создан\")\n",
    "            print(f\">>> запись в файл начата\")\n",
    "            pickle.dump(pickledata, picklefile, protocol=pickle.HIGHEST_PROTOCOL)\n",
    "            print(f\">>> запись в файл закончена\")"
   ]
  },
  {
   "cell_type": "code",
   "execution_count": 39,
   "id": "5a24a9c5",
   "metadata": {},
   "outputs": [
    {
     "name": "stdout",
     "output_type": "stream",
     "text": [
      "Такого файла не существует!\n",
      "Проверь свой путь или имя файла!\n"
     ]
    }
   ],
   "source": [
    "#Текст работы\n",
    "load_table('csv', 'C:/Users/Parazitik/Desktop/taskfiles', 'test')"
   ]
  },
  {
   "cell_type": "code",
   "execution_count": 59,
   "id": "24e89d0d",
   "metadata": {},
   "outputs": [
    {
     "data": {
      "text/plain": [
       "['hello\\n', 'im testing\\n', 'my code\\n']"
      ]
     },
     "execution_count": 59,
     "metadata": {},
     "output_type": "execute_result"
    }
   ],
   "source": [
    "load_table('txt', 'C:/Users/Parazitik/Desktop/taskfiles', 'test')"
   ]
  },
  {
   "cell_type": "code",
   "execution_count": 83,
   "id": "f45c5a09",
   "metadata": {},
   "outputs": [
    {
     "data": {
      "text/plain": [
       "[{'check': 'work'}]"
      ]
     },
     "execution_count": 83,
     "metadata": {},
     "output_type": "execute_result"
    }
   ],
   "source": [
    "load_table('pickle', 'C:/Users/Parazitik/Desktop/taskfiles', 'write_test')"
   ]
  },
  {
   "cell_type": "code",
   "execution_count": 8,
   "id": "4f0776e2",
   "metadata": {},
   "outputs": [
    {
     "name": "stdout",
     "output_type": "stream",
     "text": [
      ">>> файл write_test.csv в директории /Users/parazitik/Desktop/lol создан\n",
      ">>> запись в файл начата\n",
      "<class 'list'>\n",
      "<class 'str'>\n",
      "['okey']\n",
      "<class 'str'>\n",
      "['letsgoo']\n",
      ">>> запись в файл закончена\n"
     ]
    }
   ],
   "source": [
    "create_table('csv', '/Users/parazitik/Desktop/lol', 'write_test', csvdata=[['check','check'],'okey','letsgoo'])"
   ]
  },
  {
   "cell_type": "code",
   "execution_count": 74,
   "id": "c36d161d",
   "metadata": {},
   "outputs": [
    {
     "name": "stdout",
     "output_type": "stream",
     "text": [
      ">>> файл write_test.txt в директории C:/Users/Parazitik/Desktop/taskfiles создан\n",
      ">>> запись в файл начата\n",
      ">>> запись в файл закончена\n"
     ]
    }
   ],
   "source": [
    "create_table('txt', 'C:/Users/Parazitik/Desktop/taskfiles', 'write_test', txtdata='letsgo\\nyessir')"
   ]
  },
  {
   "cell_type": "code",
   "execution_count": 78,
   "id": "0798462d",
   "metadata": {},
   "outputs": [
    {
     "name": "stdout",
     "output_type": "stream",
     "text": [
      ">>> файл write_test.pickle в директории C:/Users/Parazitik/Desktop/taskfiles создан\n",
      ">>> запись в файл начата\n",
      ">>> запись в файл закончена\n"
     ]
    }
   ],
   "source": [
    "create_table('pickle', 'C:/Users/Parazitik/Desktop/taskfiles', 'write_test', pickledata = {'check':'work'})"
   ]
  },
  {
   "cell_type": "code",
   "execution_count": 84,
   "id": "526aef67",
   "metadata": {},
   "outputs": [],
   "source": [
    "#Функция принта\n",
    "def print_table(table):\n",
    "    for i in table:\n",
    "        print(i)"
   ]
  },
  {
   "cell_type": "code",
   "execution_count": 85,
   "id": "3956f3bc",
   "metadata": {},
   "outputs": [
    {
     "name": "stdout",
     "output_type": "stream",
     "text": [
      "{'check': 'work'}\n"
     ]
    }
   ],
   "source": [
    "print_table(load_table('pickle', 'C:/Users/Parazitik/Desktop/taskfiles', 'write_test'))"
   ]
  },
  {
   "cell_type": "code",
   "execution_count": 35,
   "id": "db5b85d8",
   "metadata": {},
   "outputs": [],
   "source": [
    "#Принимает ещё старт и стоп и копи тэйбл\n",
    "def get_rows_by_number(path='', name='',start=0, stop=0, copy_table=False):\n",
    "    result= load_table('csv', path, name)\n",
    "    ts = []\n",
    "    #Цикл для таблицы, где i -  индекс, r - строчка\n",
    "    for i,r in enumerate(result):\n",
    "        #Делаем проверку\n",
    "        if i >= start and i <= stop:\n",
    "            #В случае, если строчка в нужном диапозоне, то добавляем\n",
    "            ts.append(r)\n",
    "    #Если копи тейбл истина, то\n",
    "    if copy_table:\n",
    "        #Создаём таблицу _копи\n",
    "        create_table('csv', path, f\"{name}_copy\", csvdata=ts)\n",
    "    else:\n",
    "        #Иначе возвращаем значения\n",
    "        return(ts)"
   ]
  },
  {
   "cell_type": "code",
   "execution_count": 40,
   "id": "883bcdb7",
   "metadata": {},
   "outputs": [
    {
     "name": "stdout",
     "output_type": "stream",
     "text": [
      ">>> файл write_test_copy.csv в директории /Users/parazitik/Desktop/lol создан\n",
      ">>> запись в файл начата\n",
      ">>> запись в файл закончена\n"
     ]
    }
   ],
   "source": [
    "get_rows_by_number('/Users/parazitik/Desktop/lol', 'write_test', 0, 2, True)"
   ]
  },
  {
   "cell_type": "code",
   "execution_count": 43,
   "id": "e9f009f2",
   "metadata": {},
   "outputs": [],
   "source": [
    "def get_rows_by_index(path='',name='',val=[], copy_table=False):\n",
    "    result= load_table('csv', path, name)\n",
    "    ts = []\n",
    "    #перебираем строчку таблицы\n",
    "    for row in result:\n",
    "        #Полученные значения\n",
    "        for each in val:\n",
    "            #ищем значения в строчке\n",
    "            if each in row:\n",
    "                ts.append(row)\n",
    "                break\n",
    "    if copy_table:\n",
    "        create_table('csv', path, f\"{name}_copy\", csvdata=ts)\n",
    "    else:\n",
    "        return(ts)"
   ]
  },
  {
   "cell_type": "code",
   "execution_count": 44,
   "id": "3ac6e7a3",
   "metadata": {},
   "outputs": [
    {
     "name": "stdout",
     "output_type": "stream",
     "text": [
      "['check', 'check']\n",
      "['okey']\n",
      "['letsgoo']\n"
     ]
    },
    {
     "data": {
      "text/plain": [
       "[['okey']]"
      ]
     },
     "execution_count": 44,
     "metadata": {},
     "output_type": "execute_result"
    }
   ],
   "source": [
    "get_rows_by_index('/Users/parazitik/Desktop/lol', 'write_test', ['okey'])"
   ]
  },
  {
   "cell_type": "code",
   "execution_count": 50,
   "id": "8da59187",
   "metadata": {},
   "outputs": [],
   "source": [
    "def get_column_types(path='', name='', by_number=True):\n",
    "    result= load_table('csv', path, name)\n",
    "    ts = {}\n",
    "    value = []\n",
    "    k = 0\n",
    "    for row in result:\n",
    "        #Записывает первую строчку\n",
    "        if k == 0:\n",
    "            for each in row:\n",
    "                #В словарь\n",
    "                ts.setdefault(each, '')\n",
    "                value.append(each)\n",
    "        #Вторую строчку он записывает\n",
    "        elif k == 1:\n",
    "            for ind,each in enumerate(row):\n",
    "                #Как значения в существующий словарь\n",
    "                ts[value[ind]] = str(type(each))\n",
    "            break\n",
    "        k+=1\n",
    "    return(ts)"
   ]
  },
  {
   "cell_type": "code",
   "execution_count": 51,
   "id": "e7636ad2",
   "metadata": {},
   "outputs": [
    {
     "data": {
      "text/plain": [
       "{'check': \"<class 'str'>\"}"
      ]
     },
     "execution_count": 51,
     "metadata": {},
     "output_type": "execute_result"
    }
   ],
   "source": [
    "get_column_types('/Users/parazitik/Desktop/lol/', 'write_test')"
   ]
  },
  {
   "cell_type": "code",
   "execution_count": 79,
   "id": "9f31f303",
   "metadata": {},
   "outputs": [],
   "source": [
    "def get_values(path='', name='', column=0):\n",
    "    result= load_table('csv', path, name)\n",
    "    ts = []\n",
    "    if type(column) is int:\n",
    "        for row in result:\n",
    "            try:\n",
    "                #добавляем значение нужной колонки по индексу\n",
    "                ts.append(row[column])\n",
    "            except IndexError:\n",
    "                ts.append(None)\n",
    "        return ts\n",
    "    else:\n",
    "        ind = 0\n",
    "        if column in result[0]:\n",
    "            #Ищем где нужное значение\n",
    "            for r,i in enumerate(result[0]):\n",
    "                if i == column:\n",
    "                    #Записываем его индекс\n",
    "                    ind = r\n",
    "        for row in result:\n",
    "            try:\n",
    "                #Аналогично записываем нужное\n",
    "                ts.append(row[ind])\n",
    "            except IndexError:\n",
    "                ts.append(None)\n",
    "        return ts"
   ]
  },
  {
   "cell_type": "code",
   "execution_count": 80,
   "id": "918f30ce",
   "metadata": {},
   "outputs": [
    {
     "data": {
      "text/plain": [
       "['check', None, None]"
      ]
     },
     "execution_count": 80,
     "metadata": {},
     "output_type": "execute_result"
    }
   ],
   "source": [
    "get_values('/Users/parazitik/Desktop/lol/', 'write_test', 'check')"
   ]
  },
  {
   "cell_type": "code",
   "execution_count": 84,
   "id": "3d8d8b7d",
   "metadata": {},
   "outputs": [],
   "source": [
    "def get_value(path='', name='', column=0):\n",
    "    try:\n",
    "        if type(column) is int:\n",
    "            return load_table('csv', path, name)[0][column]\n",
    "        else:\n",
    "            ind = 0\n",
    "            if column in load_table('csv', path, name)[0]:\n",
    "                for r,i in enumerate(load_table('csv', path, name)[0]):\n",
    "                    if i == column:\n",
    "                        ind = r\n",
    "            return load_table('csv', path, name)[0][ind]\n",
    "\n",
    "    except IndexError:\n",
    "        return None"
   ]
  },
  {
   "cell_type": "code",
   "execution_count": 85,
   "id": "d8260738",
   "metadata": {},
   "outputs": [
    {
     "data": {
      "text/plain": [
       "'check'"
      ]
     },
     "execution_count": 85,
     "metadata": {},
     "output_type": "execute_result"
    }
   ],
   "source": [
    "get_value('/Users/parazitik/Desktop/lol/', 'write_test', \"check\")"
   ]
  },
  {
   "cell_type": "code",
   "execution_count": 121,
   "id": "e4d6e53e",
   "metadata": {},
   "outputs": [],
   "source": [
    "def set_values(path='', name='', values = [], column=0):\n",
    "    result= load_table('csv', path, name)\n",
    "    ts = []\n",
    "    for ind, row in enumerate(result):\n",
    "        #Пропускаем первую строчку\n",
    "        if ind == 0:\n",
    "            ts.append(row)\n",
    "        elif ind > len(values):\n",
    "            break\n",
    "        else:\n",
    "            #Добавляем строчку\n",
    "            ts.append(row)\n",
    "            #И изменяем её на то, что нам дали (values)\n",
    "            ts[ind][column] = values[ind-3]\n",
    "    return ts"
   ]
  },
  {
   "cell_type": "code",
   "execution_count": 122,
   "id": "24a05ffe",
   "metadata": {},
   "outputs": [
    {
     "data": {
      "text/plain": [
       "[['check', 'check'], ['lol'], ['kek']]"
      ]
     },
     "execution_count": 122,
     "metadata": {},
     "output_type": "execute_result"
    }
   ],
   "source": [
    "set_values('/Users/parazitik/Desktop/lol/', 'write_test', ['lol','kek'], 0)"
   ]
  },
  {
   "cell_type": "code",
   "execution_count": 123,
   "id": "96240480",
   "metadata": {},
   "outputs": [],
   "source": [
    "def set_value(path='', name='', value='', column=0):\n",
    "    result= load_table('csv', path, name)\n",
    "    ts = []\n",
    "    for ind, row in enumerate(result):\n",
    "        if ind == 0:\n",
    "            ts.append(row)\n",
    "        elif ind > len(value):\n",
    "            break\n",
    "        else:\n",
    "            ts.append(row)\n",
    "            #То же самое, только изменяем на одно, а не 2> значений\n",
    "            ts[ind][column] = value\n",
    "    return ts"
   ]
  },
  {
   "cell_type": "code",
   "execution_count": 124,
   "id": "a7b7a411",
   "metadata": {},
   "outputs": [
    {
     "data": {
      "text/plain": [
       "[['check', 'check'], ['lol'], ['lol']]"
      ]
     },
     "execution_count": 124,
     "metadata": {},
     "output_type": "execute_result"
    }
   ],
   "source": [
    "set_value('/Users/parazitik/Desktop/lol/', 'write_test', 'lol', 0)"
   ]
  },
  {
   "cell_type": "code",
   "execution_count": null,
   "id": "c3ec845c",
   "metadata": {},
   "outputs": [],
   "source": []
  }
 ],
 "metadata": {
  "kernelspec": {
   "display_name": "Python 3",
   "language": "python",
   "name": "python3"
  },
  "language_info": {
   "codemirror_mode": {
    "name": "ipython",
    "version": 3
   },
   "file_extension": ".py",
   "mimetype": "text/x-python",
   "name": "python",
   "nbconvert_exporter": "python",
   "pygments_lexer": "ipython3",
   "version": "3.8.8"
  }
 },
 "nbformat": 4,
 "nbformat_minor": 5
}
